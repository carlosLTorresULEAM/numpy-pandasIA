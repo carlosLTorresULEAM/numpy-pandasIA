{
  "nbformat": 4,
  "nbformat_minor": 0,
  "metadata": {
    "colab": {
      "provenance": [],
      "authorship_tag": "ABX9TyMUunJVQwnKfOhQjqS6Hr4B",
      "include_colab_link": true
    },
    "kernelspec": {
      "name": "python3",
      "display_name": "Python 3"
    },
    "language_info": {
      "name": "python"
    }
  },
  "cells": [
    {
      "cell_type": "markdown",
      "metadata": {
        "id": "view-in-github",
        "colab_type": "text"
      },
      "source": [
        "<a href=\"https://colab.research.google.com/github/carlosLTorresULEAM/numpy-pandasIA/blob/main/Martes_01_07_2024.ipynb\" target=\"_parent\"><img src=\"https://colab.research.google.com/assets/colab-badge.svg\" alt=\"Open In Colab\"/></a>"
      ]
    },
    {
      "cell_type": "code",
      "execution_count": null,
      "metadata": {
        "colab": {
          "base_uri": "https://localhost:8080/"
        },
        "id": "ykHMOZG6nI44",
        "outputId": "93fd4675-2dbc-4c89-edae-fd349f96143c"
      },
      "outputs": [
        {
          "output_type": "stream",
          "name": "stdout",
          "text": [
            "(3,)\n",
            "<class 'numpy.ndarray'>\n",
            "[11 22 33]\n",
            "11 22\n",
            "[11 22]\n",
            "[22 33]\n",
            "[ 11 888  33]\n"
          ]
        }
      ],
      "source": [
        "import numpy as np\n",
        "\n",
        "a=np.array([11,22,33])\n",
        "print(a.shape)\n",
        "print(type(a))\n",
        "print(a)\n",
        "\n",
        "print(a[0], a[1])\n",
        "print(a[0:2])\n",
        "print(a[1:])\n",
        "\n",
        "a[1]=888\n",
        "print(a)"
      ]
    },
    {
      "cell_type": "code",
      "source": [
        "b=np.array([[11,22,33],[44,55,66],[77,88,99]])\n",
        "print(b.shape)\n",
        "print(type(b))\n",
        "print(b)\n",
        "\n",
        "print(b[1,1])\n",
        "aux=b[1:,1:].copy()\n",
        "print(aux.shape)\n",
        "print(aux)\n",
        "\n",
        "print('ANTES....')\n",
        "print(b)\n",
        "print(aux)\n",
        "\n",
        "aux[1,1]=1000\n",
        "\n",
        "print('DESPUES...')\n",
        "print(b)\n",
        "print(aux)"
      ],
      "metadata": {
        "colab": {
          "base_uri": "https://localhost:8080/"
        },
        "id": "XeU8fn50njWU",
        "outputId": "b1f328af-21b1-4cba-aaed-4c5837783ce1"
      },
      "execution_count": null,
      "outputs": [
        {
          "output_type": "stream",
          "name": "stdout",
          "text": [
            "(3, 3)\n",
            "<class 'numpy.ndarray'>\n",
            "[[11 22 33]\n",
            " [44 55 66]\n",
            " [77 88 99]]\n",
            "55\n",
            "(2, 2)\n",
            "[[55 66]\n",
            " [88 99]]\n",
            "ANTES....\n",
            "[[11 22 33]\n",
            " [44 55 66]\n",
            " [77 88 99]]\n",
            "[[55 66]\n",
            " [88 99]]\n",
            "DESPUES...\n",
            "[[11 22 33]\n",
            " [44 55 66]\n",
            " [77 88 99]]\n",
            "[[  55   66]\n",
            " [  88 1000]]\n"
          ]
        }
      ]
    },
    {
      "cell_type": "code",
      "source": [
        "c=np.zeros((4,4))\n",
        "print(c)\n",
        "print(c.shape)\n",
        "\n",
        "d=np.full((4,4),9)\n",
        "print(d)"
      ],
      "metadata": {
        "colab": {
          "base_uri": "https://localhost:8080/"
        },
        "id": "_BXZ9_UgnlrM",
        "outputId": "7e815a1b-63c5-4a08-d9b8-bec2101ce9ab"
      },
      "execution_count": null,
      "outputs": [
        {
          "output_type": "stream",
          "name": "stdout",
          "text": [
            "[[0. 0. 0. 0.]\n",
            " [0. 0. 0. 0.]\n",
            " [0. 0. 0. 0.]\n",
            " [0. 0. 0. 0.]]\n",
            "(4, 4)\n",
            "[[9 9 9 9]\n",
            " [9 9 9 9]\n",
            " [9 9 9 9]\n",
            " [9 9 9 9]]\n"
          ]
        }
      ]
    },
    {
      "cell_type": "code",
      "source": [
        "e=np.eye(3,3)\n",
        "print(e) # Removed extra space before 'print'\n",
        "f=np.ones((4,5))\n",
        "print(f)"
      ],
      "metadata": {
        "colab": {
          "base_uri": "https://localhost:8080/"
        },
        "id": "NFFCVd7Hnnj8",
        "outputId": "1a4c4200-54bb-4730-f9f2-bcb5b48fed70"
      },
      "execution_count": null,
      "outputs": [
        {
          "output_type": "stream",
          "name": "stdout",
          "text": [
            "[[1. 0. 0.]\n",
            " [0. 1. 0.]\n",
            " [0. 0. 1.]]\n",
            "[[1. 1. 1. 1. 1.]\n",
            " [1. 1. 1. 1. 1.]\n",
            " [1. 1. 1. 1. 1.]\n",
            " [1. 1. 1. 1. 1.]]\n"
          ]
        }
      ]
    },
    {
      "cell_type": "code",
      "source": [
        "tmp1=np.random.randint(1,21, size=(4,4))\n",
        "print(tmp1)\n",
        "rows=np.array([0,1,2,0])\n",
        "cols=np.arange(4)\n",
        "\n",
        "print(rows)\n",
        "print(cols)"
      ],
      "metadata": {
        "colab": {
          "base_uri": "https://localhost:8080/"
        },
        "id": "X4CAzuuinx3d",
        "outputId": "563cb29c-cbb2-4d5c-868d-a48d3a07eb04"
      },
      "execution_count": null,
      "outputs": [
        {
          "output_type": "stream",
          "name": "stdout",
          "text": [
            "[[15 11  2 20]\n",
            " [ 5 17  1  3]\n",
            " [17 12 17  2]\n",
            " [ 3  8 11 18]]\n",
            "[0 1 2 0]\n",
            "[0 1 2 3]\n"
          ]
        }
      ]
    },
    {
      "cell_type": "code",
      "source": [
        "tmp1[rows, cols]=100\n",
        "print(tmp1)"
      ],
      "metadata": {
        "colab": {
          "base_uri": "https://localhost:8080/"
        },
        "id": "9gECX5k0n1OU",
        "outputId": "aef4943e-ee08-49f8-f04e-1c058da41e84"
      },
      "execution_count": null,
      "outputs": [
        {
          "output_type": "stream",
          "name": "stdout",
          "text": [
            "[[100  11   2 100]\n",
            " [  5 100   1   3]\n",
            " [ 17  12 100   2]\n",
            " [  3   8  11  18]]\n"
          ]
        }
      ]
    },
    {
      "cell_type": "code",
      "source": [
        "tmp2=np.random.randint(20,50, size=(6,6))\n",
        "print(tmp2)"
      ],
      "metadata": {
        "colab": {
          "base_uri": "https://localhost:8080/"
        },
        "id": "Wq-Y3wncn2mk",
        "outputId": "5b1024d9-04ff-4808-9a66-c8dea32199b4"
      },
      "execution_count": null,
      "outputs": [
        {
          "output_type": "stream",
          "name": "stdout",
          "text": [
            "[[48 29 26 31 42 32]\n",
            " [42 36 24 28 38 30]\n",
            " [21 41 26 40 34 27]\n",
            " [37 36 25 22 20 29]\n",
            " [23 29 47 31 24 28]\n",
            " [31 24 24 34 34 35]]\n"
          ]
        }
      ]
    },
    {
      "cell_type": "code",
      "source": [
        "mask = tmp2 > 45\n",
        "print(mask)\n",
        "elemay = tmp2[mask]\n",
        "\n",
        "print(\"Elementos mayores a 45:\")\n",
        "print(elemay)"
      ],
      "metadata": {
        "colab": {
          "base_uri": "https://localhost:8080/"
        },
        "id": "JhKOujPFn-M9",
        "outputId": "07bcde19-c8cb-4aed-8403-de0c0800686c"
      },
      "execution_count": null,
      "outputs": [
        {
          "output_type": "stream",
          "name": "stdout",
          "text": [
            "[[ True False False False False False]\n",
            " [False False False False False False]\n",
            " [False False False False False False]\n",
            " [False False False False False False]\n",
            " [False False  True False False False]\n",
            " [False False False False False False]]\n",
            "Elementos mayores a 45:\n",
            "[48 47]\n"
          ]
        }
      ]
    },
    {
      "cell_type": "code",
      "source": [
        "tmp3=np.random.randint(1,100, size=(10,10))\n",
        "print(tmp3)"
      ],
      "metadata": {
        "colab": {
          "base_uri": "https://localhost:8080/"
        },
        "id": "EpwB9EjRn_nE",
        "outputId": "6f657255-a3dc-40ff-a2a0-08ce6cfa0c67"
      },
      "execution_count": null,
      "outputs": [
        {
          "output_type": "stream",
          "name": "stdout",
          "text": [
            "[[88  7 47 34 77 28  3 99 13 28]\n",
            " [54 93 75 84  6 14 58 41 11 61]\n",
            " [29  2 85 54 77 35 62 84 70 39]\n",
            " [ 2 12 69 74 21 14  1 81 63 79]\n",
            " [88 42 84 44 92 30 43  9 10 23]\n",
            " [19 49 21  6 78 34 41 26  7 64]\n",
            " [98 71 27 62 28 32 95 55  9 78]\n",
            " [60 81 63 47 75 99 23 39 66 29]\n",
            " [80 41 93 40 88 83 38 11 40 92]\n",
            " [87 69 80 25 28 70 99 11 20 61]]\n"
          ]
        }
      ]
    },
    {
      "cell_type": "code",
      "source": [
        "mask2 = ((tmp3%2)==0)\n",
        "# print(mask2)\n",
        "elepar = tmp3[mask2]\n",
        "\n",
        "print(\"Elementos pares:\")\n",
        "print(elepar)\n"
      ],
      "metadata": {
        "colab": {
          "base_uri": "https://localhost:8080/"
        },
        "id": "WZn-t669oBU0",
        "outputId": "9c908f56-4368-4194-a9f3-af9b935c214d"
      },
      "execution_count": null,
      "outputs": [
        {
          "output_type": "stream",
          "name": "stdout",
          "text": [
            "Elementos pares:\n",
            "[88 34 28 28 54 84  6 14 58  2 54 62 84 70  2 12 74 14 88 42 84 44 92 30\n",
            " 10  6 78 34 26 64 98 62 28 32 78 60 66 80 40 88 38 40 92 80 28 70 20]\n"
          ]
        }
      ]
    },
    {
      "cell_type": "code",
      "source": [
        "tmp4=np.array([1,2,3,4,5],dtype=np.float64)\n",
        "print(tmp4.dtype)\n",
        "print(tmp4)\n"
      ],
      "metadata": {
        "colab": {
          "base_uri": "https://localhost:8080/"
        },
        "id": "DboIdGDLoC3U",
        "outputId": "814c3b7b-95b8-4bdd-ed9c-46bfcec99115"
      },
      "execution_count": null,
      "outputs": [
        {
          "output_type": "stream",
          "name": "stdout",
          "text": [
            "float64\n",
            "[1. 2. 3. 4. 5.]\n"
          ]
        }
      ]
    },
    {
      "cell_type": "code",
      "source": [
        "x=np.array([[1,2],[3,4]])\n",
        "y=np.array([[5,6],[7,8]])\n",
        "\n",
        "print(x)\n",
        "print(y)\n",
        "print('SUMA')\n",
        "print(np.add(x,y))\n",
        "print('RESTA')\n",
        "print(np.subtract(x,y))\n",
        "print('MULTIPLICACION')\n",
        "print(np.multiply(x,y))\n",
        "print('DIVISION')\n",
        "print(np.divide(x,y))\n",
        "print('RAIZ')\n",
        "print(np.sqrt(x))\n",
        "print('POTENCIA')\n",
        "print(np.power(x,y))"
      ],
      "metadata": {
        "colab": {
          "base_uri": "https://localhost:8080/"
        },
        "id": "Tgi5oWJUoEgd",
        "outputId": "1bbaf681-ebf6-4f52-b364-50a22f05efb7"
      },
      "execution_count": null,
      "outputs": [
        {
          "output_type": "stream",
          "name": "stdout",
          "text": [
            "[[1 2]\n",
            " [3 4]]\n",
            "[[5 6]\n",
            " [7 8]]\n",
            "SUMA\n",
            "[[ 6  8]\n",
            " [10 12]]\n",
            "RESTA\n",
            "[[-4 -4]\n",
            " [-4 -4]]\n",
            "MULTIPLICACION\n",
            "[[ 5 12]\n",
            " [21 32]]\n",
            "DIVISION\n",
            "[[0.2        0.33333333]\n",
            " [0.42857143 0.5       ]]\n",
            "RAIZ\n",
            "[[1.         1.41421356]\n",
            " [1.73205081 2.        ]]\n",
            "POTENCIA\n",
            "[[    1    64]\n",
            " [ 2187 65536]]\n"
          ]
        }
      ]
    },
    {
      "cell_type": "code",
      "source": [
        "tmp5=np.random.randint(1,10, size=(2,5))\n",
        "print(tmp5)\n",
        "aux=tmp5.mean()\n",
        "print(aux)"
      ],
      "metadata": {
        "colab": {
          "base_uri": "https://localhost:8080/"
        },
        "id": "TUFCVeU_oGzE",
        "outputId": "f349fe5a-8344-4396-e8ef-e82bbacca584"
      },
      "execution_count": null,
      "outputs": [
        {
          "output_type": "stream",
          "name": "stdout",
          "text": [
            "[[9 8 6 8 9]\n",
            " [5 5 2 6 5]]\n",
            "6.3\n"
          ]
        }
      ]
    },
    {
      "cell_type": "code",
      "source": [
        "print(tmp5.mean(axis=1))\n",
        "print(tmp5.mean(axis=0))"
      ],
      "metadata": {
        "colab": {
          "base_uri": "https://localhost:8080/"
        },
        "id": "v6kolc3ioItU",
        "outputId": "bf02f565-d825-44df-a5df-ef7a6fb841d1"
      },
      "execution_count": null,
      "outputs": [
        {
          "output_type": "stream",
          "name": "stdout",
          "text": [
            "[8.  4.6]\n",
            "[7.  6.5 4.  7.  7. ]\n"
          ]
        }
      ]
    }
  ]
}