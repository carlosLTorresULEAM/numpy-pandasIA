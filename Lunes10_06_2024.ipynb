{
  "nbformat": 4,
  "nbformat_minor": 0,
  "metadata": {
    "colab": {
      "provenance": [],
      "authorship_tag": "ABX9TyNFBL1tVywGSFlGYe6qukNh",
      "include_colab_link": true
    },
    "kernelspec": {
      "name": "python3",
      "display_name": "Python 3"
    },
    "language_info": {
      "name": "python"
    }
  },
  "cells": [
    {
      "cell_type": "markdown",
      "metadata": {
        "id": "view-in-github",
        "colab_type": "text"
      },
      "source": [
        "<a href=\"https://colab.research.google.com/github/carlosLTorresULEAM/numpy-pandasIA/blob/main/Lunes10_06_2024.ipynb\" target=\"_parent\"><img src=\"https://colab.research.google.com/assets/colab-badge.svg\" alt=\"Open In Colab\"/></a>"
      ]
    },
    {
      "cell_type": "code",
      "execution_count": null,
      "metadata": {
        "id": "RawDFU9iAGG9",
        "outputId": "fe5a11a6-a335-49ba-cec4-fcdf09728e2a",
        "colab": {
          "base_uri": "https://localhost:8080/"
        }
      },
      "outputs": [
        {
          "output_type": "stream",
          "name": "stdout",
          "text": [
            "Python 3.10.12\n"
          ]
        }
      ],
      "source": [
        "!python --version"
      ]
    },
    {
      "cell_type": "code",
      "source": [
        "myNumber = 5\n",
        "myNumberDecimal = 5.6\n",
        "state= True"
      ],
      "metadata": {
        "id": "mgbvOg19CkMV"
      },
      "execution_count": null,
      "outputs": []
    },
    {
      "cell_type": "code",
      "source": [
        "print(f'valor entero {myNumber}')\n",
        "print(f'valor decimal {myNumberDecimal}')\n",
        "print(f'valor booleano {state}')"
      ],
      "metadata": {
        "colab": {
          "base_uri": "https://localhost:8080/"
        },
        "id": "muSFkaJ1DYS2",
        "outputId": "4837288e-e924-451e-a8ff-a3bd155410ca"
      },
      "execution_count": null,
      "outputs": [
        {
          "output_type": "stream",
          "name": "stdout",
          "text": [
            "valor entero 5\n",
            "valor decimal 5.6\n",
            "valor booleano True\n"
          ]
        }
      ]
    },
    {
      "cell_type": "code",
      "source": [
        "aux1=10\n",
        "aux2=20\n",
        "print(\"La suma de las variables aux1 + aux2 =\",aux1+aux2)"
      ],
      "metadata": {
        "colab": {
          "base_uri": "https://localhost:8080/"
        },
        "id": "hapcYBooEZKm",
        "outputId": "451ba6ac-de13-41e4-ae25-12b334003706"
      },
      "execution_count": null,
      "outputs": [
        {
          "output_type": "stream",
          "name": "stdout",
          "text": [
            "La suma de las variables aux1 + aux2 = 30\n"
          ]
        }
      ]
    },
    {
      "cell_type": "code",
      "source": [
        "aux1=10\n",
        "aux2=20\n",
        "print(\"La suma de las variables aux1 - aux2 =\",aux1-aux2)"
      ],
      "metadata": {
        "colab": {
          "base_uri": "https://localhost:8080/"
        },
        "id": "ftg04VvRE_ie",
        "outputId": "476ed470-fc00-45ac-c4b3-5c9fddef501f"
      },
      "execution_count": null,
      "outputs": [
        {
          "output_type": "stream",
          "name": "stdout",
          "text": [
            "La suma de las variables aux1 - aux2 = -10\n"
          ]
        }
      ]
    },
    {
      "cell_type": "code",
      "source": [
        "aux1=10\n",
        "aux2=20\n",
        "print(\"La suma de las variables aux1 * aux2 =\",aux1*aux2)"
      ],
      "metadata": {
        "colab": {
          "base_uri": "https://localhost:8080/"
        },
        "id": "9wkWoC4qFBDe",
        "outputId": "ae72b315-04df-4062-a4e2-64872abc4eb7"
      },
      "execution_count": null,
      "outputs": [
        {
          "output_type": "stream",
          "name": "stdout",
          "text": [
            "La suma de las variables aux1 * aux2 = 200\n"
          ]
        }
      ]
    },
    {
      "cell_type": "code",
      "source": [
        "aux1=10\n",
        "aux2=20\n",
        "print(\"La suma de las variables aux1 / aux2 =\",aux1/aux2)"
      ],
      "metadata": {
        "colab": {
          "base_uri": "https://localhost:8080/"
        },
        "id": "q7BIejY4FDQ-",
        "outputId": "c94e59d6-dd10-4ffe-d80d-8c7054f050ae"
      },
      "execution_count": null,
      "outputs": [
        {
          "output_type": "stream",
          "name": "stdout",
          "text": [
            "La suma de las variables aux1 / aux2 = 0.5\n"
          ]
        }
      ]
    },
    {
      "cell_type": "code",
      "source": [
        "tmp=aux1**aux2\n",
        "print(f'La suma de las variables $10^2${tmp}')"
      ],
      "metadata": {
        "colab": {
          "base_uri": "https://localhost:8080/"
        },
        "id": "OkjB5ZEqFYOP",
        "outputId": "da14b3d6-35a1-4fbc-c848-db7b3135b821"
      },
      "execution_count": null,
      "outputs": [
        {
          "output_type": "stream",
          "name": "stdout",
          "text": [
            "La suma de las variables $10^2$100000000000000000000\n"
          ]
        }
      ]
    },
    {
      "cell_type": "code",
      "source": [
        "var1='Hola'\n",
        "var2= '!,Cesar'\n",
        "print(var1+var2)"
      ],
      "metadata": {
        "colab": {
          "base_uri": "https://localhost:8080/"
        },
        "id": "vIx8v1NbGW7-",
        "outputId": "cefd477c-21ee-4e13-9e9b-0b4dacc8a20e"
      },
      "execution_count": null,
      "outputs": [
        {
          "output_type": "stream",
          "name": "stdout",
          "text": [
            "Hola!,Cesar\n"
          ]
        }
      ]
    },
    {
      "cell_type": "code",
      "source": [
        "print(3*var1)"
      ],
      "metadata": {
        "colab": {
          "base_uri": "https://localhost:8080/"
        },
        "id": "rvfTCu_AGjn9",
        "outputId": "a9260f7d-ad35-4aaa-fe86-b459590e83f6"
      },
      "execution_count": null,
      "outputs": [
        {
          "output_type": "stream",
          "name": "stdout",
          "text": [
            "HolaHolaHola\n"
          ]
        }
      ]
    },
    {
      "cell_type": "code",
      "source": [
        "num1= 19\n",
        "num2= 3.2\n",
        "print('The type of num1: ',type(num1))\n",
        "print('The type of num2: ',type(num2))"
      ],
      "metadata": {
        "colab": {
          "base_uri": "https://localhost:8080/"
        },
        "id": "nZdVuGHUG6at",
        "outputId": "89eea700-b641-4819-9c49-314706cd084b"
      },
      "execution_count": null,
      "outputs": [
        {
          "output_type": "stream",
          "name": "stdout",
          "text": [
            "The type of num1:  <class 'int'>\n",
            "The type of num2:  <class 'float'>\n"
          ]
        }
      ]
    }
  ]
}