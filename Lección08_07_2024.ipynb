{
  "nbformat": 4,
  "nbformat_minor": 0,
  "metadata": {
    "colab": {
      "provenance": [],
      "authorship_tag": "ABX9TyPGp9C737B9EBf0a7UWmPjP",
      "include_colab_link": true
    },
    "kernelspec": {
      "name": "python3",
      "display_name": "Python 3"
    },
    "language_info": {
      "name": "python"
    }
  },
  "cells": [
    {
      "cell_type": "markdown",
      "metadata": {
        "id": "view-in-github",
        "colab_type": "text"
      },
      "source": [
        "<a href=\"https://colab.research.google.com/github/carlosLTorresULEAM/numpy-pandasIA/blob/main/Lecci%C3%B3n08_07_2024.ipynb\" target=\"_parent\"><img src=\"https://colab.research.google.com/assets/colab-badge.svg\" alt=\"Open In Colab\"/></a>"
      ]
    },
    {
      "cell_type": "markdown",
      "source": [
        "**Importamos la biblioteca NumPy utilizando la instrucción import numpy as np.**"
      ],
      "metadata": {
        "id": "S2sIC2PpBGB6"
      }
    },
    {
      "cell_type": "code",
      "execution_count": null,
      "metadata": {
        "id": "XtDPdyq_vXiM"
      },
      "outputs": [],
      "source": [
        "import numpy as np"
      ]
    },
    {
      "cell_type": "markdown",
      "source": [
        "**Importe numpy como np y vea la versión**"
      ],
      "metadata": {
        "id": "QuzaVl5cBu54"
      }
    },
    {
      "cell_type": "code",
      "source": [
        "print(np.__version__)"
      ],
      "metadata": {
        "colab": {
          "base_uri": "https://localhost:8080/"
        },
        "id": "J_KW1Tu8Bwge",
        "outputId": "91fbc187-2646-4824-f9aa-0ae76c5f4697"
      },
      "execution_count": null,
      "outputs": [
        {
          "output_type": "stream",
          "name": "stdout",
          "text": [
            "1.25.2\n"
          ]
        }
      ]
    },
    {
      "cell_type": "markdown",
      "source": [
        "**Crea una matriz 1D de números del 0 al 9**"
      ],
      "metadata": {
        "id": "CTEvsFoCB20e"
      }
    },
    {
      "cell_type": "code",
      "source": [
        "arr = np.arange(10)\n",
        "print(arr)\n",
        "#Este código crea un array de números enteros del 0 al 9 usando la función\n",
        "#arange de NumPy, lo asigna a una variable llamada arr y luego lo imprime en la consola."
      ],
      "metadata": {
        "colab": {
          "base_uri": "https://localhost:8080/"
        },
        "id": "WIGUh6tVB5T6",
        "outputId": "93bc2f0d-afdd-4b9d-94dc-98cffdb9f923"
      },
      "execution_count": null,
      "outputs": [
        {
          "output_type": "stream",
          "name": "stdout",
          "text": [
            "[0 1 2 3 4 5 6 7 8 9]\n"
          ]
        }
      ]
    },
    {
      "cell_type": "markdown",
      "source": [
        "**Cree un vector aleatorio de tamaño 10 y reemplace el valor máximo por 0**"
      ],
      "metadata": {
        "id": "09hplbMqCjBe"
      }
    },
    {
      "cell_type": "code",
      "source": [
        "\n",
        "z = np.random.random(10)\n",
        "print(z)\n",
        "# Reemplazamos el valor máximo por 0\n",
        "z[z.argmax()] = 0\n",
        "print(z)\n",
        "#Este código genera un array de 10 números aleatorios entre 0 y 1, luego\n",
        "#identifica el valor máximo y lo reemplaza por 0. Finalmente, imprime el array\n",
        "#original y el array modificado."
      ],
      "metadata": {
        "colab": {
          "base_uri": "https://localhost:8080/"
        },
        "id": "RIUbauYRClCO",
        "outputId": "205c9773-5446-4484-d15c-303f959fce62"
      },
      "execution_count": null,
      "outputs": [
        {
          "output_type": "stream",
          "name": "stdout",
          "text": [
            "[0.2600741  0.92991125 0.97790505 0.75278111 0.57826143 0.75645265\n",
            " 0.81054989 0.37002571 0.91948521 0.71392284]\n",
            "[0.2600741  0.92991125 0.         0.75278111 0.57826143 0.75645265\n",
            " 0.81054989 0.37002571 0.91948521 0.71392284]\n"
          ]
        }
      ]
    },
    {
      "cell_type": "markdown",
      "source": [
        "**Imprima el número 8 de la siguiente matriz:**\n",
        "arr = np.array([[1,2,3,4,5], [6,7,8,9,10]])\n"
      ],
      "metadata": {
        "id": "czqP1nUBDfJ9"
      }
    },
    {
      "cell_type": "code",
      "source": [
        "arr = np.array([[1,2,3,4,5], [6,7,8,9,10]])\n",
        "print(arr[1, 2])\n",
        "#Este código crea un array NumPy de dos dimensiones, accede al elemento en la\n",
        "#segunda fila y tercera columna, y luego imprime el valor de ese elemento (que es 8)."
      ],
      "metadata": {
        "colab": {
          "base_uri": "https://localhost:8080/"
        },
        "id": "Ic2JYu8pD8Kc",
        "outputId": "a42ce731-253b-404d-a8b1-9741c0ee8e46"
      },
      "execution_count": null,
      "outputs": [
        {
          "output_type": "stream",
          "name": "stdout",
          "text": [
            "8\n"
          ]
        }
      ]
    },
    {
      "cell_type": "markdown",
      "source": [
        "**Imprima los números [3, 4, 5] de la siguiente matriz:**\n",
        "matriz = np.matriz([1,2,3,4,5,6,7])"
      ],
      "metadata": {
        "id": "Fr3i-RLsESSt"
      }
    },
    {
      "cell_type": "code",
      "source": [
        "arr = np.arange(10)\n",
        "print(arr)\n",
        "\n",
        "z = np.random.random(10)\n",
        "print(z)\n",
        "\n",
        "z[z.argmax()] = 0\n",
        "print(z)\n",
        "\n",
        "arr = np.array([[1,2,3,4,5], [6,7,8,9,10]])\n",
        "print(arr[1, 2])\n",
        "\n",
        "arr = np.array([1,2,3,4,5,6,7])\n",
        "print(arr[2:5])\n",
        "\n",
        "#Este código demuestra la creación y manipulación de arrays NumPy para generar\n",
        "#secuencias numéricas, acceder a elementos específicos y extraer subsecciones\n",
        "#de arrays."
      ],
      "metadata": {
        "colab": {
          "base_uri": "https://localhost:8080/"
        },
        "id": "6JVQn4FDE190",
        "outputId": "eb59bfdc-25a5-4fda-a0b8-fc37642fccad"
      },
      "execution_count": null,
      "outputs": [
        {
          "output_type": "stream",
          "name": "stdout",
          "text": [
            "1.25.2\n",
            "[0 1 2 3 4 5 6 7 8 9]\n",
            "[0.79424779 0.66434571 0.11012836 0.56896468 0.77280703 0.7607648\n",
            " 0.44515949 0.33682112 0.53749771 0.61809865]\n",
            "[0.         0.66434571 0.11012836 0.56896468 0.77280703 0.7607648\n",
            " 0.44515949 0.33682112 0.53749771 0.61809865]\n",
            "8\n",
            "[3 4 5]\n"
          ]
        }
      ]
    },
    {
      "cell_type": "markdown",
      "source": [
        "**Imprima los últimos 4 números de la siguiente matriz:**\n",
        "matriz = np.matriz([1,2,3,4,5,6,7])"
      ],
      "metadata": {
        "id": "D6chaeh4FgS7"
      }
    },
    {
      "cell_type": "code",
      "source": [
        "arr = np.array([1,2,3,4,5,6,7])\n",
        "print(arr[-4:])\n",
        "#El código crea un array de números.\n",
        "#Luego selecciona los últimos cuatro números del array.\n",
        "#Finalmente, imprime estos últimos cuatro números."
      ],
      "metadata": {
        "colab": {
          "base_uri": "https://localhost:8080/"
        },
        "id": "Ebp0XdOpFlKn",
        "outputId": "f3b75307-51e0-45d7-be62-e0245fb9bd78"
      },
      "execution_count": null,
      "outputs": [
        {
          "output_type": "stream",
          "name": "stdout",
          "text": [
            "[4 5 6 7]\n"
          ]
        }
      ]
    },
    {
      "cell_type": "markdown",
      "source": [
        "**Crea una matriz numérica de 3 × 3 de todos los True**"
      ],
      "metadata": {
        "id": "fRBy2MDuF8Sc"
      }
    },
    {
      "cell_type": "code",
      "source": [
        "arr = np.full((3, 3), True, dtype=bool)\n",
        "print(arr)\n",
        "#El codigo realiza una matriz de 3x3 con los Trues"
      ],
      "metadata": {
        "colab": {
          "base_uri": "https://localhost:8080/"
        },
        "id": "zXiAHJmrF_Ys",
        "outputId": "2298c0e5-53ad-49c1-f0fa-de173690b8f7"
      },
      "execution_count": null,
      "outputs": [
        {
          "output_type": "stream",
          "name": "stdout",
          "text": [
            "[[ True  True  True]\n",
            " [ True  True  True]\n",
            " [ True  True  True]]\n"
          ]
        }
      ]
    },
    {
      "cell_type": "markdown",
      "source": [
        "**Extrae todos los números impares de array**"
      ],
      "metadata": {
        "id": "ZA37Qs22Gi6u"
      }
    },
    {
      "cell_type": "code",
      "source": [
        "arr = np.array([0, 1, 2, 3, 4, 5, 6, 7, 8, 9])\n",
        "arr[arr % 2 == 1]\n",
        "#El código crea un nuevo array elementos_impares que contiene solo los elementos\n",
        "#impares del arr original utilizando la selección condicional dentro de los corchetes.\n",
        "#Finalmente, print(elementos_impares) muestra el array resultante que contiene los números impares."
      ],
      "metadata": {
        "colab": {
          "base_uri": "https://localhost:8080/"
        },
        "id": "cdcnFYtpHN5L",
        "outputId": "99afdb93-fa1c-4098-d4e8-83b13307f6a5"
      },
      "execution_count": null,
      "outputs": [
        {
          "output_type": "execute_result",
          "data": {
            "text/plain": [
              "array([1, 3, 5, 7, 9])"
            ]
          },
          "metadata": {},
          "execution_count": 15
        }
      ]
    },
    {
      "cell_type": "markdown",
      "source": [
        "**Crea un vector con valores que van del 10 al 49 (★☆☆)**"
      ],
      "metadata": {
        "id": "ljztdJysHfBp"
      }
    },
    {
      "cell_type": "code",
      "source": [
        "Z = np.arange(10,50)\n",
        "print(Z)\n",
        "#El código crea un array NumPy llamado Z que contiene todos los números enteros\n",
        "#desde 10 hasta 49 (inclusive de 10 pero no 50)."
      ],
      "metadata": {
        "colab": {
          "base_uri": "https://localhost:8080/"
        },
        "id": "e6RymAv-HjFi",
        "outputId": "ce080e69-606d-4714-e089-7bd2e7fe6748"
      },
      "execution_count": null,
      "outputs": [
        {
          "output_type": "stream",
          "name": "stdout",
          "text": [
            "[10 11 12 13 14 15 16 17 18 19 20 21 22 23 24 25 26 27 28 29 30 31 32 33\n",
            " 34 35 36 37 38 39 40 41 42 43 44 45 46 47 48 49]\n"
          ]
        }
      ]
    },
    {
      "cell_type": "markdown",
      "source": [
        "**Invertir un vector (el primer elemento se convierte en el último)**"
      ],
      "metadata": {
        "id": "SWRM4HemH-tZ"
      }
    },
    {
      "cell_type": "code",
      "source": [
        "arr = np.arange(10)\n",
        "arr_reversed = arr[::-1]\n",
        "print(arr_reversed)\n",
        "#El código crea un array NumPy llamado arr con los números del 0 al 9. Luego,\n",
        "#utilizando slicing invierte el orden de los elementos y lo almacena en un nuevo\n",
        "#array llamado arr_reversed. Finalmente, imprime el array arr_reversed que\n",
        "#contiene los elementos de arr en orden inverso"
      ],
      "metadata": {
        "colab": {
          "base_uri": "https://localhost:8080/"
        },
        "id": "rsqd_jnyIBX-",
        "outputId": "00dcf536-9f63-43ab-b935-4497bb868975"
      },
      "execution_count": null,
      "outputs": [
        {
          "output_type": "stream",
          "name": "stdout",
          "text": [
            "[9 8 7 6 5 4 3 2 1 0]\n"
          ]
        }
      ]
    },
    {
      "cell_type": "markdown",
      "source": [
        "**Cree una matriz de 10x10 con valores enteros aleatorios y encuentre los valores mínimo y máximo**"
      ],
      "metadata": {
        "id": "Z2EueRAwIV3x"
      }
    },
    {
      "cell_type": "code",
      "source": [
        "\n",
        "arr = np.random.randint(0, 100, size=(10, 10))\n",
        "\n",
        "min_value = arr.min()\n",
        "max_value = arr.max()\n",
        "\n",
        "print(\"Array:\")\n",
        "print(arr)\n",
        "print(\"\\nMinimum value:\", min_value)\n",
        "print(\"Maximum value:\", max_value)\n",
        "#El código crea un array NumPy bidimensional (10x10) llamado arr con valores\n",
        "#aleatorios entre 0 y 100 (exclusivo). Luego, encuentra el valor mínimo y máximo\n",
        "#dentro del array y los almacena en variables separadas. Finalmente, imprime\n",
        "#el array completo, el valor mínimo y el valor máximo."
      ],
      "metadata": {
        "colab": {
          "base_uri": "https://localhost:8080/"
        },
        "id": "o86PwwK0IWfZ",
        "outputId": "8e9475e8-8b5f-438a-fd94-0c72a20c3203"
      },
      "execution_count": null,
      "outputs": [
        {
          "output_type": "stream",
          "name": "stdout",
          "text": [
            "Array:\n",
            "[[35  6 74 17 91 89  5 91 77 94]\n",
            " [63 97  6 77 79 27 34 20 44 89]\n",
            " [49 90 30 85 91 49  3 44 26 64]\n",
            " [92 23 63 74 94 29 72 71 54  2]\n",
            " [20 71 29 17 88 89 96 80 81 53]\n",
            " [85 44 26 62 57 15 29 99 98  4]\n",
            " [20 25 90 98 87 95  1 83 69 84]\n",
            " [54 82 74 64 48 87 38 37 88 88]\n",
            " [11  4 47 15 95 86  9  3 86 32]\n",
            " [61 85 22 46 55 67 52 26 21 38]]\n",
            "\n",
            "Minimum value: 1\n",
            "Maximum value: 99\n"
          ]
        }
      ]
    },
    {
      "cell_type": "markdown",
      "source": [
        "**Crea una matriz de 3x3x3 con valores aleatorios**"
      ],
      "metadata": {
        "id": "x8de1LUFIqGR"
      }
    },
    {
      "cell_type": "code",
      "source": [
        "arr = np.random.rand(3, 3, 3)\n",
        "print(arr)\n",
        "#El código crea un array NumPy tridimensional (3x3x3) llamado arr utilizando la\n",
        "#función np.random.rand. El array se llena con números aleatorios distribuidos\n",
        "#uniformemente entre 0 y 1 (exclusivo).\n",
        "#Finalmente, se imprime el contenido del array arr en la consola."
      ],
      "metadata": {
        "colab": {
          "base_uri": "https://localhost:8080/"
        },
        "id": "cwZcpLk1IqWJ",
        "outputId": "0f13fa84-f2f1-49f5-a6e9-c82d350c8ee8"
      },
      "execution_count": null,
      "outputs": [
        {
          "output_type": "stream",
          "name": "stdout",
          "text": [
            "[[[0.81265319 0.9125758  0.50526916]\n",
            "  [0.11739192 0.24751588 0.49954466]\n",
            "  [0.79260151 0.38822218 0.77128555]]\n",
            "\n",
            " [[0.90010596 0.62857139 0.28603713]\n",
            "  [0.3612922  0.52267463 0.41837945]\n",
            "  [0.02231172 0.70710206 0.95748378]]\n",
            "\n",
            " [[0.19986042 0.58649077 0.27431427]\n",
            "  [0.03547453 0.6931092  0.1818524 ]\n",
            "  [0.02740611 0.5765253  0.51026294]]]\n"
          ]
        }
      ]
    },
    {
      "cell_type": "markdown",
      "source": [
        "**Reemplace todos los números impares en orden con -1**"
      ],
      "metadata": {
        "id": "1Ul8HlJwJIpZ"
      }
    },
    {
      "cell_type": "code",
      "source": [
        "arr = np.array([0, 1, 2, 3, 4, 5, 6, 7, 8, 9])\n",
        "arr[arr % 2 == 1] = -1\n",
        "print(arr)\n",
        "#El código modifica un array NumPy existente, reemplazando todos los números\n",
        "#impares con -1.\n",
        "#Pasos:\n",
        "#Creación del array: Se crea un array NumPy con los números enteros del 0 al 9.\n",
        "#Selección y modificación: Se utilizan expresiones condicionales para\n",
        "#identificar los números impares y reemplazarlos por -1 en el array original.\n",
        "#Impresión: Se imprime el array modificado, mostrando los números impares\n",
        "#reemplazados por -1."
      ],
      "metadata": {
        "colab": {
          "base_uri": "https://localhost:8080/"
        },
        "id": "P-a6-eZrJLjG",
        "outputId": "3d94bf9e-7484-45c4-b4d0-0d7431008d09"
      },
      "execution_count": null,
      "outputs": [
        {
          "output_type": "stream",
          "name": "stdout",
          "text": [
            "[ 0 -1  2 -1  4 -1  6 -1  8 -1]\n"
          ]
        }
      ]
    },
    {
      "cell_type": "markdown",
      "source": [
        "**Crea una matriz de tipo float**"
      ],
      "metadata": {
        "id": "J7V9EA2eJoiK"
      }
    },
    {
      "cell_type": "code",
      "source": [
        "arr = np.array([1.3, 2.5, 3.7, 4.2], dtype=np.float32)\n",
        "print(arr)\n",
        "#El código crea un array NumPy unidimensional con números de punto flotante y lo imprime.\n",
        "#Pasos:\n",
        "#Creación: Se crea un array NumPy con valores de punto flotante y tipo de dato float32.\n",
        "#Impresión: Se imprime el contenido del array."
      ],
      "metadata": {
        "colab": {
          "base_uri": "https://localhost:8080/"
        },
        "id": "Ff1JlifhJo4o",
        "outputId": "8b2c0f1a-2e1f-4900-c35f-82b198b2989b"
      },
      "execution_count": null,
      "outputs": [
        {
          "output_type": "stream",
          "name": "stdout",
          "text": [
            "[1.3 2.5 3.7 4.2]\n"
          ]
        }
      ]
    },
    {
      "cell_type": "markdown",
      "source": [
        "**Convierta una matriz 1D en una matriz 2D con 2 filas**"
      ],
      "metadata": {
        "id": "pATb7D3GKBiY"
      }
    },
    {
      "cell_type": "code",
      "source": [
        "arr = np.arange(10)\n",
        "arr_2d = arr.reshape(2, -1)  # -1 infiere el número de columnas en función del número de elementos y filas\n",
        "print(arr_2d)\n",
        "#El código crea un array NumPy unidimensional con números enteros del 0 al 9 y\n",
        "#lo reestructura en un array bidimensional con 2 filas. La cantidad de columnas\n",
        "#se calcula automáticamente para acomodar todos los elementos"
      ],
      "metadata": {
        "colab": {
          "base_uri": "https://localhost:8080/"
        },
        "id": "9bSS4kW8KB3g",
        "outputId": "af19312c-b499-4229-d4a5-6777b8d5c046"
      },
      "execution_count": null,
      "outputs": [
        {
          "output_type": "stream",
          "name": "stdout",
          "text": [
            "[[0 1 2 3 4]\n",
            " [5 6 7 8 9]]\n"
          ]
        }
      ]
    },
    {
      "cell_type": "markdown",
      "source": [
        "**How to find common values between two arrays?**\n",
        "\n",
        "Z1 = np.random.randint(0,10,10)\n",
        "Z2 = np.random.randint(0,10,10)"
      ],
      "metadata": {
        "id": "oHRScMd7Kdlg"
      }
    },
    {
      "cell_type": "code",
      "source": [
        "Z1 = np.random.randint(0, 10, 10)\n",
        "Z2 = np.random.randint(0, 10, 10)\n",
        "\n",
        "common_values = np.intersect1d(Z1, Z2)\n",
        "print(\"Common values:\", common_values)\n",
        "#El código genera dos arrays aleatorios con enteros del 0 al 9 (exclusivo) y\n",
        "#luego encuentra los valores que son comunes a ambos."
      ],
      "metadata": {
        "colab": {
          "base_uri": "https://localhost:8080/"
        },
        "id": "0jnLSgFfKeCX",
        "outputId": "6f2eef69-8728-4ddf-c077-0ba5df11d7c4"
      },
      "execution_count": null,
      "outputs": [
        {
          "output_type": "stream",
          "name": "stdout",
          "text": [
            "Common values: [0 3 5 6]\n"
          ]
        }
      ]
    },
    {
      "cell_type": "markdown",
      "source": [
        "**Considere dos matrices aleatorias A y B, verifique si son iguales**\n",
        "A = np.aleatorio.randint(0,2,5)\n",
        "B = np.aleatorio.randint(0,2,5)"
      ],
      "metadata": {
        "id": "x5oWtKyfLVIH"
      }
    },
    {
      "cell_type": "code",
      "source": [
        "A = np.random.randint(0,2,5)\n",
        "B = np.random.randint(0,2,5)\n",
        "comparison = A == B\n",
        "equal_arrays = comparison.all()\n",
        "print(equal_arrays)\n",
        "#El código genera dos arrays aleatorios del mismo tamaño y luego verifica si\n",
        "#son exactamente iguales comparando cada elemento correspondiente. Se imprime\n",
        "#\"True\" si los arrays son iguales, y \"False\" en caso contrario."
      ],
      "metadata": {
        "colab": {
          "base_uri": "https://localhost:8080/"
        },
        "id": "HDGvSP5TLcLG",
        "outputId": "0eff4f53-6a69-4c1f-ca00-7261068b4c6c"
      },
      "execution_count": null,
      "outputs": [
        {
          "output_type": "stream",
          "name": "stdout",
          "text": [
            "False\n"
          ]
        }
      ]
    },
    {
      "cell_type": "markdown",
      "source": [
        "**Apilar matrices a y b verticalmente**"
      ],
      "metadata": {
        "id": "t6IX7WaULvk3"
      }
    },
    {
      "cell_type": "code",
      "source": [
        "a = np.array([1, 2, 3])\n",
        "b = np.array([4, 5, 6])\n",
        "c = np.vstack((a, b))\n",
        "print(c)\n",
        "#El código crea dos arrays y luego los combina verticalmente en un nuevo array."
      ],
      "metadata": {
        "colab": {
          "base_uri": "https://localhost:8080/"
        },
        "id": "R_1WcPNlLwB1",
        "outputId": "6ec79920-5e6c-4b59-ce47-96d99a7aa240"
      },
      "execution_count": null,
      "outputs": [
        {
          "output_type": "stream",
          "name": "stdout",
          "text": [
            "[[1 2 3]\n",
            " [4 5 6]]\n"
          ]
        }
      ]
    },
    {
      "cell_type": "markdown",
      "source": [
        "**Apile las matrices a y b horizontalmente.**"
      ],
      "metadata": {
        "id": "A0L5KXbPMD1G"
      }
    },
    {
      "cell_type": "code",
      "source": [
        "a = np.array([1, 2, 3])\n",
        "b = np.array([4, 5, 6])\n",
        "c = np.hstack((a, b))\n",
        "print(c)\n",
        "#El código crea dos arrays y luego los combina horizontalmente en un nuevo array."
      ],
      "metadata": {
        "colab": {
          "base_uri": "https://localhost:8080/"
        },
        "id": "24EgdJ-sMEGG",
        "outputId": "4772aebb-7649-4fd0-f508-912130cf8374"
      },
      "execution_count": null,
      "outputs": [
        {
          "output_type": "stream",
          "name": "stdout",
          "text": [
            "[1 2 3 4 5 6]\n"
          ]
        }
      ]
    },
    {
      "cell_type": "markdown",
      "source": [
        "**Obtenga todos los elementos entre 5 y 10 de la matriz tmp.**"
      ],
      "metadata": {
        "id": "Zfb2k3v7Mfgl"
      }
    },
    {
      "cell_type": "code",
      "source": [
        "tmp = np.array([2, 6, 1, 9, 10, 3, 27])\n",
        "result = tmp[(tmp > 5) & (tmp < 10)]\n",
        "print(result)\n",
        "#El código filtra un array NumPy para obtener un nuevo array que contiene solo\n",
        "#los valores que están entre 5 y 10 (exclusivo)."
      ],
      "metadata": {
        "id": "msKR9mJEMf39"
      },
      "execution_count": null,
      "outputs": []
    },
    {
      "cell_type": "markdown",
      "source": [
        "**¿Cómo hacer una función de Python que maneje escalares para que funcione en matrices numerosas?**\n",
        "Pista\n",
        "Salida deseada:\n",
        "a = np.matriz([5, 7, 9, 8, 6, 4, 5])\n",
        "b = np.matriz([6, 3, 4, 8, 9, 7, 1])\n",
        "par_max(a, b)\n",
        "> matriz([ 6., 7., 9., 8., 9., 7., 5.])"
      ],
      "metadata": {
        "id": "1hjDgZqKNBoV"
      }
    },
    {
      "cell_type": "code",
      "source": [
        "def pair_max(x, y):\n",
        "  \"\"\"\n",
        "  Esta función toma dos arrays NumPy (x e y) como entrada y devuelve un nuevo array\n",
        "  donde cada elemento es el máximo entre los elementos correspondientes en x e y.\n",
        "  \"\"\"\n",
        "  return np.maximum(x, y)\n",
        "\n",
        "a = np.array([5, 7, 9, 8, 6, 4, 5])\n",
        "b = np.array([6, 3, 4, 8, 9, 7, 1])\n",
        "result = pair_max(a, b)\n",
        "print(result)  # Salida: [ 6.  7.  9.  8.  9.  7.  5.]\n",
        "#La función pair_max es útil para encontrar el valor máximo entre dos arrays NumPy del mismo tamaño.\n",
        "#Se puede usar para comparar elementos correspondientes en dos arrays y seleccionar el mayor valor para cada par."
      ],
      "metadata": {
        "colab": {
          "base_uri": "https://localhost:8080/"
        },
        "id": "_7ObDeQINB9d",
        "outputId": "2ae09736-e5d5-4657-d447-07fc74feced1"
      },
      "execution_count": null,
      "outputs": [
        {
          "output_type": "stream",
          "name": "stdout",
          "text": [
            "[6 7 9 8 9 7 5]\n"
          ]
        }
      ]
    },
    {
      "cell_type": "markdown",
      "source": [
        "**Intercambie las columnas 1 y 2 en la matriz arr.**\n",
        "Pista\n",
        "Salida deseada:\n",
        "[[0 2 1]\n",
        "[3 5 4]\n",
        "[6 8 7]]"
      ],
      "metadata": {
        "id": "fvUlFEmRNfXd"
      }
    },
    {
      "cell_type": "code",
      "source": [
        "arr = np.arange(9).reshape(3,3)\n",
        "arr[:, [1, 0, 2]]\n",
        "#El código crea un array NumPy 3x3 y luego selecciona columnas específicas en un orden personalizado."
      ],
      "metadata": {
        "id": "LA2Y6E10Nfrd"
      },
      "execution_count": null,
      "outputs": []
    },
    {
      "cell_type": "markdown",
      "source": [
        "**Cree una matriz 2D de forma 5x3 para contener números decimales aleatorios entre 5 y 10.**\n",
        "Pista\n",
        "La salida deseada debería ser como la siguiente:\n",
        "[[8.50061025 9.10531502 6.85867783]\n",
        "[ 9.76262069 9.87717411 7.13466701]\n",
        "[7.48966403 8.33409158 6.16808631]\n",
        "[7.75010551 9.94535696 5.27373226]\n",
        "[8.0850361 5.56165518 7.31244004]]"
      ],
      "metadata": {
        "id": "918S38mUN3TN"
      }
    },
    {
      "cell_type": "code",
      "source": [
        "arr = np.random.uniform(5, 10, size=(5, 3))\n",
        "print(arr)\n",
        "#El código genera un array NumPy bidimensional con valores aleatorios uniformes\n",
        "#entre 5 y 10, y luego lo imprime en la consola."
      ],
      "metadata": {
        "colab": {
          "base_uri": "https://localhost:8080/"
        },
        "id": "i-Uy5Yg1N3r-",
        "outputId": "d2cda12a-6557-49d3-b5e5-5fd0bd4b3926"
      },
      "execution_count": null,
      "outputs": [
        {
          "output_type": "stream",
          "name": "stdout",
          "text": [
            "[[8.93439218 9.47564655 5.5572483 ]\n",
            " [5.80039307 8.41985107 8.5440045 ]\n",
            " [9.34439363 7.62292024 8.52177876]\n",
            " [6.13437524 7.56520707 9.57100006]\n",
            " [5.31079806 7.92053219 7.87776567]]\n"
          ]
        }
      ]
    }
  ]
}