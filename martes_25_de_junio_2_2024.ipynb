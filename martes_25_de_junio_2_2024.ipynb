{
  "nbformat": 4,
  "nbformat_minor": 0,
  "metadata": {
    "colab": {
      "provenance": [],
      "name": "martes-25-de-junio-2-2024.ipynb",
      "authorship_tag": "ABX9TyMpnp90jrkj49hrKuLB7rH9",
      "include_colab_link": true
    },
    "kernelspec": {
      "name": "python3",
      "display_name": "Python 3"
    },
    "language_info": {
      "name": "python"
    }
  },
  "cells": [
    {
      "cell_type": "markdown",
      "metadata": {
        "id": "view-in-github",
        "colab_type": "text"
      },
      "source": [
        "<a href=\"https://colab.research.google.com/github/carlosLTorresULEAM/numpy-pandasIA/blob/main/martes_25_de_junio_2_2024.ipynb\" target=\"_parent\"><img src=\"https://colab.research.google.com/assets/colab-badge.svg\" alt=\"Open In Colab\"/></a>"
      ]
    },
    {
      "cell_type": "markdown",
      "source": [
        "#Martes 25 de junio 2024"
      ],
      "metadata": {
        "id": "_SY63tAhwJIM"
      }
    },
    {
      "cell_type": "code",
      "execution_count": null,
      "metadata": {
        "colab": {
          "base_uri": "https://localhost:8080/"
        },
        "id": "HD-QK647wIu5",
        "outputId": "43173059-95a2-4d77-a762-82cdae04d62e"
      },
      "outputs": [
        {
          "output_type": "stream",
          "name": "stdout",
          "text": [
            "[1, 'hola', 3]\n"
          ]
        }
      ],
      "source": [
        "tmp=list()\n",
        "tmp.append(1)\n",
        "tmp.append('hola')\n",
        "tmp.append(3)\n",
        "print(tmp)"
      ]
    },
    {
      "cell_type": "markdown",
      "source": [
        "#Upper"
      ],
      "metadata": {
        "id": "6ywskAmfwPKT"
      }
    },
    {
      "cell_type": "code",
      "source": [
        "tmp1='hola'\n",
        "print(tmp1.upper())\n",
        "print(tmp1.capitalize())\n",
        "\n",
        "aux=[1,2,3,4,5,6,7,8,9,10]\n",
        "aux[4]=10\n",
        "print(aux)\n",
        "\n",
        "print(aux[-1])\n",
        "print(aux[0:5])\n",
        "print(aux[0:5:2])\n",
        "\n"
      ],
      "metadata": {
        "colab": {
          "base_uri": "https://localhost:8080/"
        },
        "id": "uXQajXNEwQIk",
        "outputId": "41f83b64-51e4-442b-82de-6e8f57408b1a"
      },
      "execution_count": null,
      "outputs": [
        {
          "output_type": "stream",
          "name": "stdout",
          "text": [
            "HOLA\n",
            "Hola\n",
            "[1, 2, 3, 4, 10, 6, 7, 8, 9, 10]\n",
            "10\n",
            "[1, 2, 3, 4, 10]\n",
            "[1, 3, 10]\n"
          ]
        }
      ]
    },
    {
      "cell_type": "code",
      "source": [
        "aux=list()\n",
        "for i in range(100):\n",
        "    aux.append(i)\n",
        "print(aux[:20])"
      ],
      "metadata": {
        "colab": {
          "base_uri": "https://localhost:8080/"
        },
        "id": "BKZLzvE1mZGs",
        "outputId": "a12ae548-33a0-49df-d41f-05f2a4f408e2"
      },
      "execution_count": null,
      "outputs": [
        {
          "output_type": "stream",
          "name": "stdout",
          "text": [
            "[0, 1, 2, 3, 4, 5, 6, 7, 8, 9, 10, 11, 12, 13, 14, 15, 16, 17, 18, 19]\n"
          ]
        }
      ]
    },
    {
      "cell_type": "code",
      "source": [
        "aux=list()\n",
        "for i in range(101):\n",
        "    if i%2==0:\n",
        "        aux.append(i)\n",
        "print(aux)"
      ],
      "metadata": {
        "colab": {
          "base_uri": "https://localhost:8080/"
        },
        "id": "KLV8qCIdmc8s",
        "outputId": "d4a963ae-ca73-47c9-d667-c66bbfb79a50"
      },
      "execution_count": null,
      "outputs": [
        {
          "output_type": "stream",
          "name": "stdout",
          "text": [
            "[0, 2, 4, 6, 8, 10, 12, 14, 16, 18, 20, 22, 24, 26, 28, 30, 32, 34, 36, 38, 40, 42, 44, 46, 48, 50, 52, 54, 56, 58, 60, 62, 64, 66, 68, 70, 72, 74, 76, 78, 80, 82, 84, 86, 88, 90, 92, 94, 96, 98, 100]\n"
          ]
        }
      ]
    },
    {
      "cell_type": "code",
      "source": [
        "tmp=list()\n",
        "tmp.append(5*5)\n",
        "tmp.append(7/2)\n",
        "tmp.append(3-4)\n",
        "print(tmp)\n",
        "print('La multiplicaicon es',tmp[0], 'la division es', tmp[1], 'la resta es', tmp[2])"
      ],
      "metadata": {
        "colab": {
          "base_uri": "https://localhost:8080/"
        },
        "id": "7H6iMBK3mfYF",
        "outputId": "495cd24c-5e21-4ae5-83a5-c55c85abf0d5"
      },
      "execution_count": null,
      "outputs": [
        {
          "output_type": "stream",
          "name": "stdout",
          "text": [
            "[25, 3.5, -1]\n",
            "La multiplicaicon es 25 la division es 3.5 la resta es -1\n"
          ]
        }
      ]
    },
    {
      "cell_type": "code",
      "source": [
        "#En una linea de codigo  100 numeros y muetra los impares\n",
        "\n",
        "print([i for i in range(102) if i % 2 != 0])\n"
      ],
      "metadata": {
        "colab": {
          "base_uri": "https://localhost:8080/"
        },
        "id": "lmzwWUgAmiWU",
        "outputId": "807d063c-ecad-4bbb-9fab-07ad3e283133"
      },
      "execution_count": null,
      "outputs": [
        {
          "output_type": "stream",
          "name": "stdout",
          "text": [
            "[1, 3, 5, 7, 9, 11, 13, 15, 17, 19, 21, 23, 25, 27, 29, 31, 33, 35, 37, 39, 41, 43, 45, 47, 49, 51, 53, 55, 57, 59, 61, 63, 65, 67, 69, 71, 73, 75, 77, 79, 81, 83, 85, 87, 89, 91, 93, 95, 97, 99, 101]\n"
          ]
        }
      ]
    },
    {
      "cell_type": "code",
      "source": [
        "animals=['cat','dog','monkey','rabbit']\n",
        "for animal in animals:\n",
        "    print(animal)"
      ],
      "metadata": {
        "colab": {
          "base_uri": "https://localhost:8080/"
        },
        "id": "y9AbDWRYmj7s",
        "outputId": "e8ec8b02-226a-48af-be68-ab52edd0797c"
      },
      "execution_count": null,
      "outputs": [
        {
          "output_type": "stream",
          "name": "stdout",
          "text": [
            "cat\n",
            "dog\n",
            "monkey\n",
            "rabbit\n"
          ]
        }
      ]
    },
    {
      "cell_type": "code",
      "source": [
        "squares = [i**2 for i in range(1, 21)]\n",
        "print(squares)"
      ],
      "metadata": {
        "colab": {
          "base_uri": "https://localhost:8080/"
        },
        "id": "gWcPt_ywmljs",
        "outputId": "d2de9db1-9dd8-4266-c417-c966ddd79da4"
      },
      "execution_count": null,
      "outputs": [
        {
          "output_type": "stream",
          "name": "stdout",
          "text": [
            "[1, 4, 9, 16, 25, 36, 49, 64, 81, 100, 121, 144, 169, 196, 225, 256, 289, 324, 361, 400]\n"
          ]
        }
      ]
    },
    {
      "cell_type": "code",
      "source": [
        "myDiccionary = {'cat': 'cute', 'dog': 'furry'}\n",
        "for key, value in myDiccionary.items():\n",
        "    print(key, value)"
      ],
      "metadata": {
        "colab": {
          "base_uri": "https://localhost:8080/"
        },
        "id": "uMGwIS6Omm0M",
        "outputId": "0e77b672-438f-425c-b466-ebdaf1707d4e"
      },
      "execution_count": null,
      "outputs": [
        {
          "output_type": "stream",
          "name": "stdout",
          "text": [
            "cat cute\n",
            "dog furry\n"
          ]
        }
      ]
    },
    {
      "cell_type": "code",
      "source": [
        "myDictionary={'cat':'cute', 'dog': 'big'}\n",
        "\n",
        "print(myDictionary['cat'])\n",
        "\n",
        "myDictAux={'monkey': 'black', 'mouse': 'small', 'rabbit': 'white'}\n",
        "\n",
        "myDictionary.update(myDictAux)\n",
        "\n",
        "print(myDictionary)\n",
        "for key, value in myDictionary.items(): # print(key)\n",
        "\n",
        "  print(f' key: {key} Value: {value}')\n",
        "\n",
        "myList=[1,2,3,1,5,6]\n",
        "\n",
        "myDictAux1={x: x**2 for x in myList}\n",
        "\n",
        "print(myDictAux1)"
      ],
      "metadata": {
        "colab": {
          "base_uri": "https://localhost:8080/"
        },
        "id": "luZaZGDmmogN",
        "outputId": "a5bee108-bbe9-40b8-a886-71a98ab69441"
      },
      "execution_count": null,
      "outputs": [
        {
          "output_type": "stream",
          "name": "stdout",
          "text": [
            "cute\n",
            "{'cat': 'cute', 'dog': 'big', 'monkey': 'black', 'mouse': 'small', 'rabbit': 'white'}\n",
            " key: cat Value: cute\n",
            " key: dog Value: big\n",
            " key: monkey Value: black\n",
            " key: mouse Value: small\n",
            " key: rabbit Value: white\n",
            "{1: 1, 2: 4, 3: 9, 5: 25, 6: 36}\n"
          ]
        }
      ]
    },
    {
      "cell_type": "code",
      "source": [
        "def suma_resta(a, b, operacion):\n",
        "  if operacion == 'suma':\n",
        "    return a + b, True\n",
        "  elif operacion == 'resta':\n",
        "    return a - b, False\n",
        "  else:\n",
        "    raise ValueError('Operación no válida')\n",
        "\n",
        "resultado, es_suma = suma_resta(5, 3, 'suma')\n",
        "print(f'Resultado: {resultado}, Es suma: {es_suma}')\n",
        "\n",
        "resultado, es_suma = suma_resta(5, 3, 'resta')\n",
        "print(f'Resultado: {resultado}, Es suma: {es_suma}')"
      ],
      "metadata": {
        "colab": {
          "base_uri": "https://localhost:8080/"
        },
        "id": "PX0ioSwsmqUc",
        "outputId": "dba4b981-1493-4df7-9987-77b2ef6f7d58"
      },
      "execution_count": null,
      "outputs": [
        {
          "output_type": "stream",
          "name": "stdout",
          "text": [
            "Resultado: 8, Es suma: True\n",
            "Resultado: 2, Es suma: False\n"
          ]
        }
      ]
    },
    {
      "cell_type": "code",
      "source": [
        "lista = [-1, 1, 0]\n",
        "\n",
        "def signo(numero):\n",
        "  if numero > 0:\n",
        "    return \"positivo\"\n",
        "  elif numero < 0:\n",
        "    return \"negativo\"\n",
        "  else:\n",
        "    return \"no tiene signo\"\n",
        "\n",
        "for numero in lista:\n",
        "  print(f\"El número {numero} es {signo(numero)}\")"
      ],
      "metadata": {
        "colab": {
          "base_uri": "https://localhost:8080/"
        },
        "id": "4q9utk6zmr61",
        "outputId": "924c1ca3-123b-46ee-cd99-3cfb06151425"
      },
      "execution_count": null,
      "outputs": [
        {
          "output_type": "stream",
          "name": "stdout",
          "text": [
            "El número -1 es negativo\n",
            "El número 1 es positivo\n",
            "El número 0 es no tiene signo\n"
          ]
        }
      ]
    }
  ]
}