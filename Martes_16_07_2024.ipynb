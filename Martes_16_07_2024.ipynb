{
  "nbformat": 4,
  "nbformat_minor": 0,
  "metadata": {
    "colab": {
      "provenance": [],
      "authorship_tag": "ABX9TyP78FZQlu0R+FGCAspjQoFw",
      "include_colab_link": true
    },
    "kernelspec": {
      "name": "python3",
      "display_name": "Python 3"
    },
    "language_info": {
      "name": "python"
    }
  },
  "cells": [
    {
      "cell_type": "markdown",
      "metadata": {
        "id": "view-in-github",
        "colab_type": "text"
      },
      "source": [
        "<a href=\"https://colab.research.google.com/github/carlosLTorresULEAM/numpy-pandasIA/blob/main/Martes_16_07_2024.ipynb\" target=\"_parent\"><img src=\"https://colab.research.google.com/assets/colab-badge.svg\" alt=\"Open In Colab\"/></a>"
      ]
    },
    {
      "cell_type": "code",
      "execution_count": null,
      "metadata": {
        "colab": {
          "base_uri": "https://localhost:8080/"
        },
        "id": "XYAlTmCSxjGP",
        "outputId": "edcb848a-d86e-4fa1-ef9c-b2e5518af86d"
      },
      "outputs": [
        {
          "output_type": "stream",
          "name": "stdout",
          "text": [
            "2.0.3\n"
          ]
        }
      ],
      "source": [
        "import pandas as pd\n",
        "import numpy as np\n",
        "print (pd.__version__)"
      ]
    },
    {
      "cell_type": "code",
      "source": [
        "seriData = pd.Series(data=[100, 200, 300], index=['juan', 'pedro', 'lucas'])\n",
        "print(seriData)\n",
        "print('-------°---------')\n",
        "print(seriData['juan'])"
      ],
      "metadata": {
        "colab": {
          "base_uri": "https://localhost:8080/"
        },
        "id": "AyJsrE6FzXq7",
        "outputId": "e6a501f0-4f17-4177-cb48-80716088b56e"
      },
      "execution_count": null,
      "outputs": [
        {
          "output_type": "stream",
          "name": "stdout",
          "text": [
            "juan     100\n",
            "pedro    200\n",
            "lucas    300\n",
            "dtype: int64\n",
            "-------°---------\n",
            "100\n"
          ]
        }
      ]
    },
    {
      "cell_type": "code",
      "source": [
        "print(seriData.index)\n",
        "print('pedro' in seriData)"
      ],
      "metadata": {
        "colab": {
          "base_uri": "https://localhost:8080/"
        },
        "id": "PamE3xX70gm_",
        "outputId": "724894c5-3661-44cd-dee7-161480b0c875"
      },
      "execution_count": null,
      "outputs": [
        {
          "output_type": "stream",
          "name": "stdout",
          "text": [
            "Index(['juan', 'pedro', 'lucas'], dtype='object')\n",
            "True\n"
          ]
        }
      ]
    },
    {
      "cell_type": "code",
      "source": [
        "myDiccionary = {'one':pd.Series([100,200,300], index=['juan', 'pedro', 'lucas']),\n",
        "                            'two':pd.Series([11, 22, 33], index=['juan', 'pedro', 'lucas'])}\n",
        "#SERIES AN DATAFRAME\n",
        "df = pd.DataFrame(myDiccionary)\n",
        "print(df)\n",
        "print('-------°---------')\n",
        "print(df.index)\n",
        "print(df.columns)\n",
        "print('-------°---------')\n",
        "print(df.loc['juan'])"
      ],
      "metadata": {
        "colab": {
          "base_uri": "https://localhost:8080/"
        },
        "id": "tFEq2_pt0_dU",
        "outputId": "a25e42dc-7194-4ea7-ef51-a9d5195c5d9e"
      },
      "execution_count": null,
      "outputs": [
        {
          "output_type": "stream",
          "name": "stdout",
          "text": [
            "       one  two\n",
            "juan   100   11\n",
            "pedro  200   22\n",
            "lucas  300   33\n",
            "-------°---------\n",
            "Index(['juan', 'pedro', 'lucas'], dtype='object')\n",
            "Index(['one', 'two'], dtype='object')\n",
            "-------°---------\n",
            "one    100\n",
            "two     11\n",
            "Name: juan, dtype: int64\n"
          ]
        }
      ]
    },
    {
      "cell_type": "code",
      "source": [],
      "metadata": {
        "id": "ugJqNAJy2lJe"
      },
      "execution_count": null,
      "outputs": []
    }
  ]
}