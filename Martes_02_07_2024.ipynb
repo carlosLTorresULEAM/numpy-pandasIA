{
  "nbformat": 4,
  "nbformat_minor": 0,
  "metadata": {
    "colab": {
      "provenance": [],
      "authorship_tag": "ABX9TyOzhyyu5CFUMbJ1tFK+nyGl",
      "include_colab_link": true
    },
    "kernelspec": {
      "name": "python3",
      "display_name": "Python 3"
    },
    "language_info": {
      "name": "python"
    }
  },
  "cells": [
    {
      "cell_type": "markdown",
      "metadata": {
        "id": "view-in-github",
        "colab_type": "text"
      },
      "source": [
        "<a href=\"https://colab.research.google.com/github/carlosLTorresULEAM/numpy-pandasIA/blob/main/Martes_02_07_2024.ipynb\" target=\"_parent\"><img src=\"https://colab.research.google.com/assets/colab-badge.svg\" alt=\"Open In Colab\"/></a>"
      ]
    },
    {
      "cell_type": "code",
      "execution_count": null,
      "metadata": {
        "colab": {
          "base_uri": "https://localhost:8080/"
        },
        "id": "j9lPc7AUoxcf",
        "outputId": "ea225700-f1fd-4a6a-e588-732180f8bd4a"
      },
      "outputs": [
        {
          "output_type": "stream",
          "name": "stdout",
          "text": [
            "[[9 6 8 5]\n",
            " [2 6 9 8]\n",
            " [8 3 2 7]]\n",
            "6.083333333333333\n",
            "6.083333333333333\n",
            "[7.   6.25 5.  ]\n",
            "73\n",
            "[7. 7. 5.]\n"
          ]
        }
      ],
      "source": [
        "import numpy as np\n",
        "a = np.random.randint(1, 10, (3, 4))\n",
        "print(a)\n",
        "tmp=np.mean(a)\n",
        "print(tmp)\n",
        "print(a.mean())\n",
        "tmp=a.mean(axis=1)\n",
        "print(tmp)\n",
        "\n",
        "aux=a.sum()\n",
        "print(aux)\n",
        "medianValue=np.median(a,axis=1)\n",
        "print(medianValue)\n"
      ]
    },
    {
      "cell_type": "code",
      "source": [
        "#SORTING\n",
        "b=np.random.randn(10)\n",
        "print(b)\n",
        "print(b.shape)\n",
        "b.sort()\n",
        "print(b)"
      ],
      "metadata": {
        "colab": {
          "base_uri": "https://localhost:8080/"
        },
        "id": "nOf5IvhRrJoE",
        "outputId": "086a7146-5d48-4b92-8939-0e6c8771aa80"
      },
      "execution_count": null,
      "outputs": [
        {
          "output_type": "stream",
          "name": "stdout",
          "text": [
            "[-0.36485152  0.30146646  0.04397406 -0.75079799 -0.37645747  0.81588242\n",
            " -0.35737883 -0.06455737 -0.75014001 -1.06087298]\n",
            "(10,)\n",
            "[-1.06087298 -0.75079799 -0.75014001 -0.37645747 -0.36485152 -0.35737883\n",
            " -0.06455737  0.04397406  0.30146646  0.81588242]\n"
          ]
        }
      ]
    },
    {
      "cell_type": "code",
      "source": [
        "c=np.array([2,3,4,2,5,3,5])\n",
        "print(np.unique(c))"
      ],
      "metadata": {
        "colab": {
          "base_uri": "https://localhost:8080/"
        },
        "id": "vHJo10T5r0Fk",
        "outputId": "2783b72e-bb8e-4c7e-9742-07aaf2617514"
      },
      "execution_count": null,
      "outputs": [
        {
          "output_type": "stream",
          "name": "stdout",
          "text": [
            "[2 3 4 5]\n"
          ]
        }
      ]
    },
    {
      "cell_type": "code",
      "source": [
        "string1=np.array(['desk','chair','bulb',])\n",
        "string2=np.array(['lamp','bulb','chair',])\n",
        "\n",
        "tmp1=np.intersect1d(string1, string2)\n",
        "print(tmp1)\n",
        "\n",
        "tmp2=np.union1d(string1, string2)\n",
        "print(tmp2)\n",
        "\n",
        "tmp3=np.setdiff1d(string1, string2)\n",
        "print(tmp3)\n",
        "\n",
        "tmp4=np.in1d(string1, string2)\n",
        "print(tmp4)"
      ],
      "metadata": {
        "colab": {
          "base_uri": "https://localhost:8080/"
        },
        "id": "KHNJD25IsK2U",
        "outputId": "dfb30e70-88cf-4c56-a71b-be064a9bfa13"
      },
      "execution_count": null,
      "outputs": [
        {
          "output_type": "stream",
          "name": "stdout",
          "text": [
            "['bulb' 'chair']\n",
            "['bulb' 'chair' 'desk' 'lamp']\n",
            "['desk']\n",
            "[False  True  True]\n"
          ]
        }
      ]
    },
    {
      "cell_type": "code",
      "source": [
        "#BROADCASTING\n",
        "print('1')\n",
        "aux = np.zeros((4,3))\n",
        "print(aux)\n",
        "print('2')\n",
        "replicate=np.array([1,2,1])\n",
        "aux=aux+replicate\n",
        "print(aux)\n",
        "print('3')\n",
        "replicate=np.array([[10,10,10]])\n",
        "print(replicate.shape)\n",
        "print('4')\n",
        "replicateCol=np.reshape(replicate,(3,1))\n",
        "print(replicateCol.shape)\n",
        "print('5')\n",
        "aux = np.zeros((3,3))\n",
        "aux=aux+replicateCol\n",
        "print(aux)\n"
      ],
      "metadata": {
        "colab": {
          "base_uri": "https://localhost:8080/"
        },
        "id": "CU_x7H0iuNrE",
        "outputId": "f054c964-d1e5-4df3-a025-f0651112a40e"
      },
      "execution_count": null,
      "outputs": [
        {
          "output_type": "stream",
          "name": "stdout",
          "text": [
            "1\n",
            "[[0. 0. 0.]\n",
            " [0. 0. 0.]\n",
            " [0. 0. 0.]\n",
            " [0. 0. 0.]]\n",
            "2\n",
            "[[1. 2. 1.]\n",
            " [1. 2. 1.]\n",
            " [1. 2. 1.]\n",
            " [1. 2. 1.]]\n",
            "3\n",
            "(1, 3)\n",
            "4\n",
            "(3, 1)\n",
            "5\n",
            "[[10. 10. 10.]\n",
            " [10. 10. 10.]\n",
            " [10. 10. 10.]]\n"
          ]
        }
      ]
    },
    {
      "cell_type": "code",
      "source": [
        "vector=np.array([45])\n",
        "matixZeros=np.zeros((5,5))\n",
        "print(matixZeros)\n",
        "print(matixZeros+vector)"
      ],
      "metadata": {
        "colab": {
          "base_uri": "https://localhost:8080/"
        },
        "id": "bgCXCgufx2yT",
        "outputId": "87d3f98e-6561-4562-99f8-2164179d058f"
      },
      "execution_count": null,
      "outputs": [
        {
          "output_type": "stream",
          "name": "stdout",
          "text": [
            "[[0. 0. 0. 0. 0.]\n",
            " [0. 0. 0. 0. 0.]\n",
            " [0. 0. 0. 0. 0.]\n",
            " [0. 0. 0. 0. 0.]\n",
            " [0. 0. 0. 0. 0.]]\n",
            "[[45. 45. 45. 45. 45.]\n",
            " [45. 45. 45. 45. 45.]\n",
            " [45. 45. 45. 45. 45.]\n",
            " [45. 45. 45. 45. 45.]\n",
            " [45. 45. 45. 45. 45.]]\n"
          ]
        }
      ]
    },
    {
      "cell_type": "markdown",
      "source": [],
      "metadata": {
        "id": "J3EtgrgKx2l7"
      }
    }
  ]
}